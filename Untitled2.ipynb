{
  "nbformat": 4,
  "nbformat_minor": 0,
  "metadata": {
    "colab": {
      "provenance": [],
      "authorship_tag": "ABX9TyN5Cb05WhCPIO4ZTyyLKV90",
      "include_colab_link": true
    },
    "kernelspec": {
      "name": "python3",
      "display_name": "Python 3"
    },
    "language_info": {
      "name": "python"
    }
  },
  "cells": [
    {
      "cell_type": "markdown",
      "metadata": {
        "id": "view-in-github",
        "colab_type": "text"
      },
      "source": [
        "<a href=\"https://colab.research.google.com/github/mahika-jain/ML-Roadmap-for-2022/blob/main/Untitled2.ipynb\" target=\"_parent\"><img src=\"https://colab.research.google.com/assets/colab-badge.svg\" alt=\"Open In Colab\"/></a>"
      ]
    },
    {
      "cell_type": "code",
      "execution_count": 8,
      "metadata": {
        "colab": {
          "base_uri": "https://localhost:8080/",
          "height": 245
        },
        "id": "Iz-AMUeQEXGU",
        "outputId": "160e7be5-719b-4f6e-d925-06c92cbbb625"
      },
      "outputs": [
        {
          "output_type": "display_data",
          "data": {
            "text/plain": [
              "<IPython.core.display.Javascript object>"
            ],
            "application/javascript": [
              "\n",
              "        var video = document.createElement('video');\n",
              "        document.body.appendChild(video);\n",
              "        video.style.display = 'none';\n",
              "\n",
              "        navigator.mediaDevices.getUserMedia({ video: true }).then(function(stream) {\n",
              "            video.srcObject = stream;\n",
              "            video.onloadedmetadata = function(e) {\n",
              "                video.play();\n",
              "            };\n",
              "        });\n",
              "    "
            ]
          },
          "metadata": {}
        },
        {
          "output_type": "error",
          "ename": "error",
          "evalue": "ignored",
          "traceback": [
            "\u001b[0;31m---------------------------------------------------------------------------\u001b[0m",
            "\u001b[0;31merror\u001b[0m                                     Traceback (most recent call last)",
            "\u001b[0;32m<ipython-input-8-0c0aaac07437>\u001b[0m in \u001b[0;36m<cell line: 55>\u001b[0;34m()\u001b[0m\n\u001b[1;32m     58\u001b[0m \u001b[0;34m\u001b[0m\u001b[0m\n\u001b[1;32m     59\u001b[0m     \u001b[0;31m# Convert the base64 image to a NumPy array\u001b[0m\u001b[0;34m\u001b[0m\u001b[0;34m\u001b[0m\u001b[0m\n\u001b[0;32m---> 60\u001b[0;31m     \u001b[0mimg\u001b[0m \u001b[0;34m=\u001b[0m \u001b[0mcv2\u001b[0m\u001b[0;34m.\u001b[0m\u001b[0mimdecode\u001b[0m\u001b[0;34m(\u001b[0m\u001b[0mnp\u001b[0m\u001b[0;34m.\u001b[0m\u001b[0mfrombuffer\u001b[0m\u001b[0;34m(\u001b[0m\u001b[0mbase64\u001b[0m\u001b[0;34m.\u001b[0m\u001b[0mb64decode\u001b[0m\u001b[0;34m(\u001b[0m\u001b[0mframe\u001b[0m\u001b[0;34m)\u001b[0m\u001b[0;34m,\u001b[0m \u001b[0mdtype\u001b[0m\u001b[0;34m=\u001b[0m\u001b[0mnp\u001b[0m\u001b[0;34m.\u001b[0m\u001b[0muint8\u001b[0m\u001b[0;34m)\u001b[0m\u001b[0;34m,\u001b[0m \u001b[0;34m-\u001b[0m\u001b[0;36m1\u001b[0m\u001b[0;34m)\u001b[0m\u001b[0;34m\u001b[0m\u001b[0;34m\u001b[0m\u001b[0m\n\u001b[0m\u001b[1;32m     61\u001b[0m \u001b[0;34m\u001b[0m\u001b[0m\n\u001b[1;32m     62\u001b[0m     \u001b[0;31m# Detect objects\u001b[0m\u001b[0;34m\u001b[0m\u001b[0;34m\u001b[0m\u001b[0m\n",
            "\u001b[0;31merror\u001b[0m: OpenCV(4.8.0) /io/opencv/modules/imgcodecs/src/loadsave.cpp:802: error: (-215:Assertion failed) !buf.empty() in function 'imdecode_'\n"
          ]
        }
      ],
      "source": [
        "import cv2\n",
        "import numpy as np\n",
        "from google.colab.patches import cv2_imshow\n",
        "import base64\n",
        "from IPython.display import display, Javascript\n",
        "from google.colab.output import eval_js\n",
        "\n",
        "# Load the pre-trained model\n",
        "classNames=[]\n",
        "classFile = '/coco.names'\n",
        "with open(classFile,'rt') as f:\n",
        "    classNames=f.read().rstrip('\\n').split('\\n')\n",
        "\n",
        "configPath= \"/ssd_mobilenet_v3_large_coco_2020_01_14.pbtxt\"\n",
        "weightsPath= \"/frozen_inference_graph.pb\"\n",
        "net = cv2.dnn_DetectionModel(weightsPath, configPath)\n",
        "net.setInputSize(320,320)\n",
        "net.setInputScale(1.0/127.5)\n",
        "net.setInputMean((127.5,127.5,127.5))\n",
        "net.setInputSwapRB(True)\n",
        "\n",
        "# JavaScript code to capture webcam frames\n",
        "def start_camera():\n",
        "    js = '''\n",
        "        var video = document.createElement('video');\n",
        "        document.body.appendChild(video);\n",
        "        video.style.display = 'none';\n",
        "\n",
        "        navigator.mediaDevices.getUserMedia({ video: true }).then(function(stream) {\n",
        "            video.srcObject = stream;\n",
        "            video.onloadedmetadata = function(e) {\n",
        "                video.play();\n",
        "            };\n",
        "        });\n",
        "    '''\n",
        "    return display(Javascript(js))\n",
        "\n",
        "def capture_frame():\n",
        "    js = '''\n",
        "        var video = document.querySelector('video')\n",
        "        var canvas = document.createElement('canvas');\n",
        "        canvas.width = video.videoWidth;\n",
        "        canvas.height = video.videoHeight;\n",
        "        canvas.getContext('2d').drawImage(video, 0, 0);\n",
        "        img = canvas.toDataURL('image/jpeg');\n",
        "        img\n",
        "    '''\n",
        "    data_uri = eval_js(js)\n",
        "    binary_img = data_uri.split(',')[1]\n",
        "    return binary_img\n",
        "\n",
        "# Start the camera\n",
        "start_camera()\n",
        "\n",
        "while True:\n",
        "    # Capture a frame\n",
        "    frame = capture_frame()\n",
        "\n",
        "    # Convert the base64 image to a NumPy array\n",
        "    img = cv2.imdecode(np.frombuffer(base64.b64decode(frame), dtype=np.uint8), -1)\n",
        "\n",
        "    # Detect objects\n",
        "    classIds, confs, bbox = net.detect(img, confThreshold=0.5)\n",
        "\n",
        "    if len(classIds)!=0:\n",
        "        for classId, confidence, box in zip(classIds.flatten(), confs.flatten(), bbox):\n",
        "            if 0 <= classId-1 < len(classNames):\n",
        "                cv2.rectangle(img, box, color=(255, 255, 0), thickness=2)\n",
        "                cv2.putText(img, classNames[classId-1].upper(), (box[0]+1, box[1]+30), cv2.FONT_HERSHEY_COMPLEX, 0.4, (0, 255, 0), 1)\n",
        "\n",
        "    # Display the frame\n",
        "    cv2_imshow(img)\n",
        "\n",
        "    # Break the loop on 'q' key press\n",
        "    if cv2.waitKey(1) & 0xFF == ord('q'):\n",
        "        break\n"
      ]
    }
  ]
}